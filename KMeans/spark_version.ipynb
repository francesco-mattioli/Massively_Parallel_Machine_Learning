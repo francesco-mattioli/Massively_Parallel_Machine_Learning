{
 "cells": [
  {
   "cell_type": "code",
   "execution_count": 1,
   "metadata": {},
   "outputs": [
    {
     "name": "stderr",
     "output_type": "stream",
     "text": [
      "Setting default log level to \"WARN\".\n",
      "To adjust logging level use sc.setLogLevel(newLevel). For SparkR, use setLogLevel(newLevel).\n",
      "23/12/12 18:38:00 WARN NativeCodeLoader: Unable to load native-hadoop library for your platform... using builtin-java classes where applicable\n"
     ]
    }
   ],
   "source": [
    "from pyspark.sql import SparkSession\n",
    "from pyspark import SparkContext\n",
    "\n",
    "import numpy as np\n",
    "\n",
    "# Create a Spark session\n",
    "spark = SparkSession.builder.appName(\"MySparkApp\").getOrCreate()\n",
    "sc = SparkContext.getOrCreate()\n",
    "spark.sparkContext.setLogLevel(\"ERROR\")"
   ]
  },
  {
   "cell_type": "code",
   "execution_count": 2,
   "metadata": {},
   "outputs": [],
   "source": [
    "# This function returns and RDD where each line is a list containing a row of values \n",
    "\n",
    "\n",
    "# ReadFile function\n",
    "def parallelReadFile(filename):\n",
    "    # Read the file into an RDD\n",
    "    rdd = sc.textFile(filename)\n",
    "\n",
    "    # Assuming the first line of the CSV is the header\n",
    "    header = rdd.first()\n",
    "\n",
    "    # Use flatMap to filter out the header\n",
    "    dataWithoutHeader = rdd.flatMap(lambda line: [] if line == header else [line])\n",
    "\n",
    "    # Process the RDD to remove the first column and convert elements to float\n",
    "    rdd_processed = dataWithoutHeader.map(lambda line: [float(item) for item in line.split(',')[1:]])\n",
    "\n",
    "    return rdd_processed\n"
   ]
  },
  {
   "cell_type": "code",
   "execution_count": 3,
   "metadata": {},
   "outputs": [
    {
     "data": {
      "text/plain": [
       "'\\n\\n# ReadFile function\\ndef parallelReadFile(filename):\\n\\n    # Read the file into an RDD\\n    rdd = sc.textFile(filename)\\n\\n    # Assuming the first line of the CSV is the header\\n    header = rdd.first()\\n\\n    # Use flatMap to filter out the header\\n    dataWithoutHeader = rdd.flatMap(lambda line: [] if line == header else [line])\\n\\n    def remove_first_column(line):\\n        columns = line.split(\",\")  # Split line by comma\\n        return \",\".join(columns[1:])  # Join all but the first column\\n\\n    # Apply the function to each line\\n    dataWithoutFirstColumn = dataWithoutHeader.map(remove_first_column)\\n\\n    return dataWithoutFirstColumn\\n\\n'"
      ]
     },
     "execution_count": 3,
     "metadata": {},
     "output_type": "execute_result"
    }
   ],
   "source": [
    "# This function returns and RDD where each line is a string\n",
    "'''\n",
    "\n",
    "# ReadFile function\n",
    "def parallelReadFile(filename):\n",
    "\n",
    "    # Read the file into an RDD\n",
    "    rdd = sc.textFile(filename)\n",
    "\n",
    "    # Assuming the first line of the CSV is the header\n",
    "    header = rdd.first()\n",
    "\n",
    "    # Use flatMap to filter out the header\n",
    "    dataWithoutHeader = rdd.flatMap(lambda line: [] if line == header else [line])\n",
    "\n",
    "    def remove_first_column(line):\n",
    "        columns = line.split(\",\")  # Split line by comma\n",
    "        return \",\".join(columns[1:])  # Join all but the first column\n",
    "\n",
    "    # Apply the function to each line\n",
    "    dataWithoutFirstColumn = dataWithoutHeader.map(remove_first_column)\n",
    "\n",
    "    return dataWithoutFirstColumn\n",
    "\n",
    "'''"
   ]
  },
  {
   "cell_type": "code",
   "execution_count": 3,
   "metadata": {},
   "outputs": [
    {
     "name": "stderr",
     "output_type": "stream",
     "text": [
      "                                                                                \r"
     ]
    }
   ],
   "source": [
    "#Testing of the read function\n",
    "filename = 'data/tot_mnist_shuf.csv'\n",
    "RDD_Xy = parallelReadFile(filename)\n"
   ]
  },
  {
   "cell_type": "code",
   "execution_count": 7,
   "metadata": {},
   "outputs": [],
   "source": [
    "def serialAssign2cluster(centroids, x):\n",
    "    distances = [np.sqrt(np.sum(np.square(x - centroid))) for centroid in centroids]\n",
    "    # Find the index of the closest centroid\n",
    "    closest_index = np.argmin(distances)\n",
    "    return closest_index"
   ]
  },
  {
   "cell_type": "code",
   "execution_count": 15,
   "metadata": {},
   "outputs": [],
   "source": [
    "def parallelKMeans(data, K, n_iter):    \n",
    "    # Random initialization of centroids\n",
    "    centroids = [np.random.rand(len(data.first())) for _ in range(K)]\n",
    "\n",
    "    for n in range(n_iter):\n",
    "        # Assign points to the nearest centroid\n",
    "        cluster_assignments = data.map(lambda x: (serialAssign2cluster(centroids, x), x))\n",
    "\n",
    "        # Calculate the new centroids\n",
    "        centroid_sums = cluster_assignments.reduceByKey(lambda x, y: x + y).collect()\n",
    "        centroid_counts = cluster_assignments.map(lambda x: (x[0], 1)).reduceByKey(lambda x, y: x + y).collect()\n",
    "        \n",
    "        new_centroids = []\n",
    "\n",
    "        for i in range(K):\n",
    "            # Get sum and count for each centroid\n",
    "            sum_of_points = centroid_sums.get(i, np.zeros(len(data.first())))\n",
    "            count_of_points = centroid_counts.get(i, 0)\n",
    "\n",
    "            # Calculate the new centroid\n",
    "            if count_of_points > 0:\n",
    "                new_centroid = sum_of_points / count_of_points\n",
    "            else:\n",
    "                new_centroid = np.random.rand(len(data.first()))  \n",
    "\n",
    "            new_centroids.append(new_centroid)\n",
    "\n",
    "        centroids = new_centroids\n",
    "\n",
    "    return centroids\n"
   ]
  },
  {
   "cell_type": "code",
   "execution_count": 4,
   "metadata": {},
   "outputs": [],
   "source": [
    "def serialAssign2cluster(centroids, x):\n",
    "    distances = [np.sqrt(np.sum(np.square(x - centroid))) for centroid in centroids]\n",
    "    closest_index = np.argmin(distances)\n",
    "    return (closest_index, np.array(x))"
   ]
  },
  {
   "cell_type": "code",
   "execution_count": 5,
   "metadata": {},
   "outputs": [],
   "source": [
    "\n",
    "def parallelKMeans(data, K, n_iter):    \n",
    "    centroids = [np.random.rand(len(data.first())) for _ in range(K)]\n",
    "\n",
    "    for n in range(n_iter):\n",
    "        # Assign points to the nearest centroid\n",
    "        cluster_assignments = data.map(lambda x: serialAssign2cluster(centroids, x))\n",
    "\n",
    "        # Perform sum and count in a single reduceByKey operation\n",
    "        centroid_sum_count = cluster_assignments.map(lambda x: (x[0], (x[1], 1))).reduceByKey(lambda a, b: (a[0] + b[0], a[1] + b[1]))\n",
    "\n",
    "        \n",
    "        mean_centroids_list = centroid_sum_count.map(lambda x: (x[1][0] / x[1][1])).collect()\n",
    "\n",
    "        centroids = mean_centroids_list\n",
    "\n",
    "    return centroids\n",
    "\n"
   ]
  },
  {
   "cell_type": "code",
   "execution_count": 8,
   "metadata": {},
   "outputs": [
    {
     "name": "stderr",
     "output_type": "stream",
     "text": [
      "                                                                                \r"
     ]
    }
   ],
   "source": [
    "centroids = parallelKMeans(RDD_Xy, 10, 10)"
   ]
  },
  {
   "cell_type": "code",
   "execution_count": 9,
   "metadata": {},
   "outputs": [
    {
     "data": {
      "image/png": "[encoded data removed]",
      "text/plain": [
       "<Figure size 200x200 with 1 Axes>"
      ]
     },
     "metadata": {},
     "output_type": "display_data"
    },
    {
     "data": {
      "image/png": "[encoded data removed]",
      "text/plain": [
       "<Figure size 200x200 with 1 Axes>"
      ]
     },
     "metadata": {},
     "output_type": "display_data"
    },
    {
     "data": {
      "image/png": "[encoded data removed]",
      "text/plain": [
       "<Figure size 200x200 with 1 Axes>"
      ]
     },
     "metadata": {},
     "output_type": "display_data"
    },
    {
     "data": {
      "image/png": "[encoded data removed]",
      "text/plain": [
       "<Figure size 200x200 with 1 Axes>"
      ]
     },
     "metadata": {},
     "output_type": "display_data"
    },
    {
     "data": {
      "image/png": "[encoded data removed]",
      "text/plain": [
       "<Figure size 200x200 with 1 Axes>"
      ]
     },
     "metadata": {},
     "output_type": "display_data"
    },
    {
     "data": {
      "image/png": "[encoded data removed]",
      "text/plain": [
       "<Figure size 200x200 with 1 Axes>"
      ]
     },
     "metadata": {},
     "output_type": "display_data"
    },
    {
     "data": {
      "image/png": "[encoded data removed]",
      "text/plain": [
       "<Figure size 200x200 with 1 Axes>"
      ]
     },
     "metadata": {},
     "output_type": "display_data"
    },
    {
     "data": {
      "image/png": "[encoded data removed]",
      "text/plain": [
       "<Figure size 200x200 with 1 Axes>"
      ]
     },
     "metadata": {},
     "output_type": "display_data"
    },
    {
     "data": {
      "image/png": "[encoded data removed]",
      "text/plain": [
       "<Figure size 200x200 with 1 Axes>"
      ]
     },
     "metadata": {},
     "output_type": "display_data"
    },
    {
     "data": {
      "image/png": "[encoded data removed]",
      "text/plain": [
       "<Figure size 200x200 with 1 Axes>"
      ]
     },
     "metadata": {},
     "output_type": "display_data"
    }
   ],
   "source": [
    "import matplotlib.pyplot as plt\n",
    "\n",
    "# Assuming 'centroids' is a list of centroids, where each centroid is an array of pixel values\n",
    "for i, centroid in enumerate(centroids):\n",
    "    image = centroid.reshape((28, 28))  # reshape the centroid to the size of the image\n",
    "    fig = plt.figure(figsize=(2, 2))  # you can adjust the figure size as needed\n",
    "    plt.imshow(image, cmap='grey')  \n",
    "    plt.title(f'Centroid {i+1}')\n",
    "    plt.axis('off')  # turn off the axis\n",
    "    plt.show()"
   ]
  }
 ],
 "metadata": {
  "kernelspec": {
   "display_name": ".venv",
   "language": "python",
   "name": "python3"
  },
  "language_info": {
   "codemirror_mode": {
    "name": "ipython",
    "version": 3
   },
   "file_extension": ".py",
   "mimetype": "text/x-python",
   "name": "python",
   "nbconvert_exporter": "python",
   "pygments_lexer": "ipython3",
   "version": "3.9.18"
  }
 },
 "nbformat": 4,
 "nbformat_minor": 2
}
