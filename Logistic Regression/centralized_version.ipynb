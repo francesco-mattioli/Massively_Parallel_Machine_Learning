{
 "cells": [
  {
   "cell_type": "code",
   "execution_count": 1,
   "metadata": {},
   "outputs": [],
   "source": [
    "import numpy as np"
   ]
  },
  {
   "cell_type": "code",
   "execution_count": 2,
   "metadata": {},
   "outputs": [],
   "source": [
    "def readFile(filename):\n",
    "    with open(filename, 'r') as csv_file:\n",
    "        lines = csv_file.readlines()\n",
    "    X = []\n",
    "    Y = []\n",
    "    \n",
    "    for l in lines:\n",
    "        row = l.strip().split(\",\")\n",
    "        X.append([float(x) for x in row[:-1]])\n",
    "        Y.append(int(row[-1]))\n",
    "    X = np.array(X)\n",
    "    Y = np.array(Y)\n",
    "    data = np.column_stack((X, Y))\n",
    "\n",
    "    return data\n"
   ]
  },
  {
   "cell_type": "code",
   "execution_count": 3,
   "metadata": {},
   "outputs": [
    {
     "name": "stdout",
     "output_type": "stream",
     "text": [
      "(1000000, 12)\n",
      "First 5 rows of data:\n",
      " [[ 9.01278427e+00  1.67299998e+03  2.19999885e+01  9.99999745e-01\n",
      "   6.19998877e+01  6.99998079e+01  1.30000002e+01  2.99999998e+00\n",
      "   1.99000002e+02  2.46836957e+09  2.46837255e+09  1.00000000e+00]\n",
      " [ 3.59999909e+03  4.82065758e+04  1.33629998e+04  1.00000192e+00\n",
      "   2.62999242e+02  8.29998876e+01  1.39999452e+01  5.00000003e+00\n",
      "   2.16999996e+02  1.53904420e+09  2.46836839e+09  0.00000000e+00]\n",
      " [ 6.99938676e-04  9.47284469e-04  5.30002602e+01  2.00000042e+00\n",
      "   6.46242903e+08  8.29998876e+01  1.30000000e+01  2.99999999e+00\n",
      "   2.16999996e+02  2.46836954e+09  2.50325008e+09  0.00000000e+00]\n",
      " [ 3.59999909e+03  1.71877436e+03  6.33776887e+04  1.00000192e+00\n",
      "   9.26682197e+05  5.43556891e+02  1.30000000e+01  5.00000003e+00\n",
      "   1.86999994e+02  4.05749205e+08  1.12542449e+09  0.00000000e+00]\n",
      " [ 3.47137922e+03  4.80241859e+04  3.50889376e-04  5.07008976e+05\n",
      "   2.62999242e+02  1.00012368e+03  1.30000000e+01 -7.71042474e-09\n",
      "   7.99999924e+00  4.61400457e+08  9.83083625e+01  0.00000000e+00]]\n"
     ]
    }
   ],
   "source": [
    "#Testing of the read function\n",
    "d = readFile('data/botnet_tot_syn_l.csv')\n",
    "print(d.shape)\n",
    "print(\"First 5 rows of data:\\n\", d[:5])"
   ]
  },
  {
   "cell_type": "code",
   "execution_count": 4,
   "metadata": {},
   "outputs": [
    {
     "name": "stdout",
     "output_type": "stream",
     "text": [
      "21282767194.873116\n"
     ]
    }
   ],
   "source": [
    "column = d[:, 1]\n",
    "sum = 0\n",
    "for i in column:\n",
    "    sum += i\n",
    "    #print(i)\n",
    "print (sum)"
   ]
  },
  {
   "cell_type": "code",
   "execution_count": 5,
   "metadata": {},
   "outputs": [],
   "source": [
    "def normalize(data):\n",
    "    means = []\n",
    "    stds = []\n",
    "\n",
    "    for i in range(data.shape[1] - 1):\n",
    "        column = data[:, i]\n",
    "        mean = np.sum(column) / len(column)\n",
    "        std = np.sqrt(np.sum((column - mean) ** 2) / len(column))\n",
    "        \n",
    "        means.append(mean)\n",
    "        stds.append(std)\n",
    "\n",
    "    means = np.array(means)\n",
    "    stds = np.array(stds)\n",
    "\n",
    "    for i in range(data.shape[1] - 1):\n",
    "        data[:, i] = (data[:, i] - means[i]) / stds[i]\n",
    "\n",
    "    return data"
   ]
  },
  {
   "cell_type": "code",
   "execution_count": 6,
   "metadata": {},
   "outputs": [
    {
     "name": "stdout",
     "output_type": "stream",
     "text": [
      "First 5 rows of data:\n",
      " [[-0.79240977 -0.81309371 -0.42245076 -0.46646975 -0.52239296 -0.35631957\n",
      "   0.7370103   0.52834963  0.82717799  0.47316616  0.15895172  1.        ]\n",
      " [ 1.4437204   1.116361    0.39127564 -0.46646975 -0.5223921  -0.35631927\n",
      "   0.92633194  1.48012075  1.02641833 -0.82869545  0.15894853  0.        ]\n",
      " [-0.79802166 -0.88246246 -0.42055992 -0.4664623   2.24026466 -0.35631927\n",
      "   0.73701025  0.52834964  1.02641833  0.47316612  0.18574901  0.        ]\n",
      " [ 1.4437204  -0.81119573  3.44189202 -0.46646975 -0.5184317  -0.35630884\n",
      "   0.73701025  1.48012075  0.69435097 -2.41629145 -0.87286932  0.        ]\n",
      " [ 1.36362799  1.10879844 -0.42379262  3.30972605 -0.5223921  -0.35629849\n",
      "   0.73701025 -0.89930699 -1.28698408 -2.33833143 -1.73756142  0.        ]]\n"
     ]
    }
   ],
   "source": [
    "d = normalize(d)\n",
    "print(\"First 5 rows of data:\\n\", d[:5])"
   ]
  },
  {
   "cell_type": "code",
   "execution_count": 7,
   "metadata": {},
   "outputs": [],
   "source": [
    "def sigmoid(z):\n",
    "    return 1 / (1 + np.exp(-z))\n",
    "\n",
    "def train(data, iterations, learning_rate, lambda_reg):\n",
    "    np.random.seed(0) \n",
    "\n",
    "    X, y = data[:, :-1], data[:, -1]\n",
    "    w = np.random.rand(X.shape[1])\n",
    "    b = np.random.rand()\n",
    "    m = len(y)\n",
    "\n",
    "    # For all the iterations\n",
    "    for n in range(iterations):\n",
    "        dw = np.zeros(len(w))\n",
    "        db = 0\n",
    "        total_loss = 0\n",
    "\n",
    "        # Cost function computation\n",
    "        for i in range(m):\n",
    "            xi = X[i]\n",
    "            yi = y[i]\n",
    "            z = b\n",
    "\n",
    "            # For all the features, computing the prediction y_hat\n",
    "            for j in range(len(w)):\n",
    "                z += w[j] * xi[j]\n",
    "            y_hat = sigmoid(z)\n",
    "            error = y_hat - yi\n",
    "\n",
    "            # Aggregate for cost computation\n",
    "            total_loss += (yi * np.log(y_hat)) + (1 - yi) * np.log(1 - y_hat)\n",
    "\n",
    "        # Compute cost for the current iteration using aggregates\n",
    "        cost = (-1 / m) * total_loss + (lambda_reg / (2 * m)) * np.sum(w ** 2)\n",
    "        print(f\"Iteration {n+1}/{iterations} - Cost: {cost}\")\n",
    "\n",
    "        # For all the rows, computing the gradient\n",
    "        for i in range(m):\n",
    "            xi = X[i]\n",
    "            yi = y[i]\n",
    "            z = b\n",
    "\n",
    "            # For all the features, computing the prediction y_hat\n",
    "            for j in range(len(w)):\n",
    "                z += w[j] * xi[j]\n",
    "            y_hat = sigmoid(z)\n",
    "            error = y_hat - yi\n",
    "\n",
    "            # Update gradients\n",
    "            for j in range(len(w)):\n",
    "                dw[j] += error * xi[j]\n",
    "            db += error\n",
    "\n",
    "        # Update weights and bias\n",
    "        w -= learning_rate * (dw / m + (lambda_reg / m) * w)\n",
    "        b -= learning_rate * db / m\n",
    "\n",
    "        \n",
    "\n",
    "    return np.append(w, b)\n"
   ]
  },
  {
   "cell_type": "code",
   "execution_count": 8,
   "metadata": {},
   "outputs": [
    {
     "name": "stdout",
     "output_type": "stream",
     "text": [
      "Iteration 1/10 - Cost: 1.4998030671357732\n",
      "Iteration 2/10 - Cost: 0.7452491273037543\n",
      "Iteration 3/10 - Cost: 0.4463838653241005\n",
      "Iteration 4/10 - Cost: 0.33598210709513854\n",
      "Iteration 5/10 - Cost: 0.2858186861975213\n",
      "Iteration 6/10 - Cost: 0.25817417377106544\n",
      "Iteration 7/10 - Cost: 0.24076133573753333\n",
      "Iteration 8/10 - Cost: 0.22876056610474765\n",
      "Iteration 9/10 - Cost: 0.21995387544015582\n",
      "Iteration 10/10 - Cost: 0.21318893422095375\n"
     ]
    }
   ],
   "source": [
    "ws = train(d, 10, 1.5, 0)\n",
    "\n",
    "w = ws[:-1]  # All elements except the last one are weights\n",
    "b = ws[-1]   # The last element is the bias\n"
   ]
  },
  {
   "cell_type": "code",
   "execution_count": 9,
   "metadata": {},
   "outputs": [],
   "source": [
    "def predict(w, b, x):\n",
    "    z = b\n",
    "    for j in range(len(w)):\n",
    "        z += w[j] * x[j]\n",
    "\n",
    "    y_hat = sigmoid(z)\n",
    "    return 1 if y_hat > 0.5 else 0\n"
   ]
  },
  {
   "cell_type": "code",
   "execution_count": 10,
   "metadata": {},
   "outputs": [],
   "source": [
    "def accuracy(w, b, data):\n",
    "    X, y_true = data[:, :-1], data[:, -1]\n",
    "    correct_predictions = 0\n",
    "    m = len(y_true)\n",
    "\n",
    "    for i in range(m):\n",
    "        xi = X[i]\n",
    "        yi = y_true[i]\n",
    "        y_pred = predict(w, b, xi)\n",
    "        if y_pred == yi:\n",
    "            correct_predictions += 1\n",
    "\n",
    "    return correct_predictions / m"
   ]
  },
  {
   "cell_type": "code",
   "execution_count": 11,
   "metadata": {},
   "outputs": [
    {
     "name": "stdout",
     "output_type": "stream",
     "text": [
      "Accuracy: 93.02%\n"
     ]
    }
   ],
   "source": [
    "acc = accuracy(w, b, d)\n",
    "print(f\"Accuracy: {acc * 100:.2f}%\")"
   ]
  }
 ],
 "metadata": {
  "kernelspec": {
   "display_name": "MPML",
   "language": "python",
   "name": "python3"
  },
  "language_info": {
   "codemirror_mode": {
    "name": "ipython",
    "version": 3
   },
   "file_extension": ".py",
   "mimetype": "text/x-python",
   "name": "python",
   "nbconvert_exporter": "python",
   "pygments_lexer": "ipython3",
   "version": "3.11.5"
  }
 },
 "nbformat": 4,
 "nbformat_minor": 2
}
