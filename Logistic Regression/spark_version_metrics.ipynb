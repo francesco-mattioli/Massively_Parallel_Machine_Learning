{
 "cells": [
  {
   "cell_type": "code",
   "execution_count": 1,
   "metadata": {},
   "outputs": [
    {
     "name": "stderr",
     "output_type": "stream",
     "text": [
      "23/12/16 20:32:10 WARN Utils: Your hostname, MacBook-Pro-di-Luca-2.local resolves to a loopback address: 127.0.0.1; using 192.168.1.155 instead (on interface en0)\n",
      "23/12/16 20:32:10 WARN Utils: Set SPARK_LOCAL_IP if you need to bind to another address\n",
      "Setting default log level to \"WARN\".\n",
      "To adjust logging level use sc.setLogLevel(newLevel). For SparkR, use setLogLevel(newLevel).\n",
      "23/12/16 20:32:11 WARN NativeCodeLoader: Unable to load native-hadoop library for your platform... using builtin-java classes where applicable\n"
     ]
    }
   ],
   "source": [
    "from pyspark.sql import SparkSession\n",
    "from pyspark import SparkContext\n",
    "\n",
    "import numpy as np\n",
    "import matplotlib.pyplot as plt\n",
    "import seaborn as sns\n",
    "\n",
    "# Create a Spark session\n",
    "spark = SparkSession.builder.appName(\"MySparkApp\").getOrCreate()\n",
    "sc = SparkContext.getOrCreate()\n",
    "spark.sparkContext.setLogLevel(\"ERROR\")"
   ]
  },
  {
   "cell_type": "code",
   "execution_count": 2,
   "metadata": {},
   "outputs": [],
   "source": [
    "# ReadFile function\n",
    "def readFile(filename):\n",
    "\n",
    "    # Read the file into an RDD\n",
    "    # Each line in the file becomes one record in the RDD\n",
    "    lines = sc.textFile(filename)\n",
    "\n",
    "    # Process each line in the RDD, each element in data ends in a tuple containing a list of the first 11 features, and a number representing the target\n",
    "    data = lines.map(lambda line: line.split(','))\\\n",
    "                .map(lambda elem: ([float(x) for x in elem[:-1]], int(elem[-1])))\n",
    "\n",
    "    return data"
   ]
  },
  {
   "cell_type": "code",
   "execution_count": 3,
   "metadata": {},
   "outputs": [
    {
     "name": "stdout",
     "output_type": "stream",
     "text": [
      "(array([9.01278427e+00, 1.67299998e+03, 2.19999885e+01, 9.99999745e-01,\n",
      "       6.19998877e+01, 6.99998079e+01, 1.30000002e+01, 2.99999998e+00,\n",
      "       1.99000002e+02, 2.46836957e+09, 2.46837255e+09]), 1)\n",
      "(array([3.59999909e+03, 4.82065758e+04, 1.33629998e+04, 1.00000192e+00,\n",
      "       2.62999242e+02, 8.29998876e+01, 1.39999452e+01, 5.00000003e+00,\n",
      "       2.16999996e+02, 1.53904420e+09, 2.46836839e+09]), 0)\n",
      "(array([6.99938676e-04, 9.47284469e-04, 5.30002602e+01, 2.00000042e+00,\n",
      "       6.46242903e+08, 8.29998876e+01, 1.30000000e+01, 2.99999999e+00,\n",
      "       2.16999996e+02, 2.46836954e+09, 2.50325008e+09]), 0)\n",
      "(array([3.59999909e+03, 1.71877436e+03, 6.33776887e+04, 1.00000192e+00,\n",
      "       9.26682197e+05, 5.43556891e+02, 1.30000000e+01, 5.00000003e+00,\n",
      "       1.86999994e+02, 4.05749205e+08, 1.12542449e+09]), 0)\n",
      "(array([ 3.47137922e+03,  4.80241859e+04,  3.50889376e-04,  5.07008976e+05,\n",
      "        2.62999242e+02,  1.00012368e+03,  1.30000000e+01, -7.71042474e-09,\n",
      "        7.99999924e+00,  4.61400457e+08,  9.83083625e+01]), 0)\n"
     ]
    }
   ],
   "source": [
    "#Testing of the read function\n",
    "filename = 'data/botnet_tot_syn_l.csv'\n",
    "RDD_Xy = readFile(filename).map( lambda x: (np.array(x[0]), x[1]))\n",
    "\n",
    "# Printing first 5 rows of the RDD\n",
    "for row in RDD_Xy.take(5):\n",
    "    print(row)"
   ]
  },
  {
   "cell_type": "code",
   "execution_count": 4,
   "metadata": {},
   "outputs": [
    {
     "data": {
      "text/plain": [
       "'\\ndef compute_stats(RDD):\\n    # Calculate sum and sum of squares for each feature\\n    sums = RDD.map(lambda x: x[0]).reduce(lambda a, b: [a[i] + b[i] for i in range(len(a))])\\n    return sums\\nprint(compute_stats(rdd))\\n'"
      ]
     },
     "execution_count": 4,
     "metadata": {},
     "output_type": "execute_result"
    }
   ],
   "source": [
    "'''\n",
    "def compute_stats(RDD):\n",
    "    # Calculate sum and sum of squares for each feature\n",
    "    sums = RDD.map(lambda x: x[0]).reduce(lambda a, b: [a[i] + b[i] for i in range(len(a))])\n",
    "    return sums\n",
    "print(compute_stats(rdd))\n",
    "'''"
   ]
  },
  {
   "cell_type": "code",
   "execution_count": 5,
   "metadata": {},
   "outputs": [],
   "source": [
    "# Function that computes the means and std devs\n",
    "def compute_mean_stds(RDD):\n",
    "\n",
    "    # Calculate sum and sum of squares for each feature\n",
    "    sums = RDD.map(lambda x: x[0]).reduce(lambda a, b: a+b)\n",
    "    sum_of_squares = RDD.map(lambda x: x[0]**2).reduce(lambda a, b: a+b)\n",
    "    count = RDD.count()\n",
    "\n",
    "    # Compute mean and standard deviation for each feature\n",
    "    means = sums / count\n",
    "    stds = ((sum_of_squares / count) - means ** 2) ** 0.5 \n",
    "    \n",
    "    return means, stds\n",
    "\n",
    "\n",
    "# Normalize function\n",
    "def normalize(RDD_Xy):\n",
    "    # Compute means and standard deviations\n",
    "    means, stds = compute_mean_stds(RDD_Xy)\n",
    "\n",
    "    # normalized_RDD = RDD_Xy.map(lambda x: ([(x[0][i] - means[i]) / stds[i] if stds[i] != 0 else 0 for i in range(len(x[0]))], x[1]))\n",
    "    normalized_RDD = RDD_Xy.map(lambda x: ((x[0] - means) / stds , x[1]))\n",
    "\n",
    "    return normalized_RDD\n",
    "\n"
   ]
  },
  {
   "cell_type": "code",
   "execution_count": 6,
   "metadata": {},
   "outputs": [
    {
     "name": "stderr",
     "output_type": "stream",
     "text": [
      "                                                                                \r"
     ]
    },
    {
     "name": "stdout",
     "output_type": "stream",
     "text": [
      "(array([-0.79240977, -0.81309371, -0.42245076, -0.46646975, -0.52239296,\n",
      "       -0.35631957,  0.7370103 ,  0.52834963,  0.82717799,  0.47316616,\n",
      "        0.15895172]), 1)\n",
      "(array([ 1.4437204 ,  1.116361  ,  0.39127564, -0.46646975, -0.5223921 ,\n",
      "       -0.35631927,  0.92633194,  1.48012075,  1.02641833, -0.82869545,\n",
      "        0.15894853]), 0)\n",
      "(array([-0.79802166, -0.88246246, -0.42055992, -0.4664623 ,  2.24026466,\n",
      "       -0.35631927,  0.73701025,  0.52834964,  1.02641833,  0.47316612,\n",
      "        0.18574901]), 0)\n",
      "(array([ 1.4437204 , -0.81119573,  3.44189202, -0.46646975, -0.5184317 ,\n",
      "       -0.35630884,  0.73701025,  1.48012075,  0.69435097, -2.41629145,\n",
      "       -0.87286932]), 0)\n",
      "(array([ 1.36362799,  1.10879844, -0.42379262,  3.30972605, -0.5223921 ,\n",
      "       -0.35629849,  0.73701025, -0.89930699, -1.28698408, -2.33833143,\n",
      "       -1.73756142]), 0)\n"
     ]
    },
    {
     "name": "stderr",
     "output_type": "stream",
     "text": [
      "                                                                                \r"
     ]
    }
   ],
   "source": [
    "#Testing of the normalize function\n",
    "normalized_RDD = normalize(RDD_Xy)\n",
    "\n",
    "# Print first 5 normalized rows\n",
    "for row in normalized_RDD.take(5):\n",
    "    print(row)\n"
   ]
  },
  {
   "cell_type": "code",
   "execution_count": 7,
   "metadata": {},
   "outputs": [],
   "source": [
    "# Sigmoid function\n",
    "def sigmoid(z):\n",
    "    return 1 / (1 + np.exp(-z))\n",
    "\n",
    "\n",
    "# Function that computes the value z, which is indeed a linear combination of weights and features + the bias\n",
    "def linear_combination(features, weights, bias):\n",
    "    return sum(weights[j] * features[j] for j in range(len(weights))) + bias\n",
    "\n",
    "\n",
    "# Function to compute the gradient of each record (row) of the dataset\n",
    "def compute_gradients_and_cost(record, weights, bias):\n",
    "    xi, yi = record\n",
    "\n",
    "    y_hat = sigmoid(linear_combination(xi, weights, bias))\n",
    "    error = y_hat - yi\n",
    "    dw = np.zeros(len(weights))\n",
    "\n",
    "    for j in range(len(weights)):\n",
    "        dw[j] = error * xi[j]\n",
    "    \n",
    "    db = error\n",
    "    cost_contribution = -yi * np.log(y_hat) - (1 - yi) * np.log(1 - y_hat)\n",
    "    \n",
    "    return (dw, db, cost_contribution)\n",
    "\n",
    "\n",
    "# Actual train function\n",
    "def train(RDD_Xy, iterations, learning_rate, lambda_reg):\n",
    "    np.random.seed(0) \n",
    "    feature_count = len(RDD_Xy.first()[0])\n",
    "    w = np.random.rand(feature_count)\n",
    "    b = np.random.rand()\n",
    "    m = RDD_Xy.count()\n",
    "\n",
    "    for n in range(iterations):\n",
    "        \n",
    "        gradients_and_cost = RDD_Xy.map(lambda x: compute_gradients_and_cost(x, w, b))\n",
    "        dw, db, total_cost = gradients_and_cost.reduce(lambda a, b: (a[0] + b[0], a[1] + b[1], a[2] + b[2]))\n",
    "        \n",
    "        reg_cost = (lambda_reg / (2 * feature_count)) * np.sum(np.square(w))\n",
    "        cost = (total_cost / m) + reg_cost\n",
    "        \n",
    "        # Update weights and bias\n",
    "        w -= learning_rate * ((dw / m) + (lambda_reg/m) * w)\n",
    "        b -= learning_rate * db / m\n",
    "\n",
    "\n",
    "        print(f\"Iteration {n+1}/{iterations} - Cost: {cost}\")\n",
    "\n",
    "    return w, b\n"
   ]
  },
  {
   "cell_type": "code",
   "execution_count": 8,
   "metadata": {},
   "outputs": [
    {
     "name": "stderr",
     "output_type": "stream",
     "text": [
      "                                                                                \r"
     ]
    },
    {
     "name": "stdout",
     "output_type": "stream",
     "text": [
      "Iteration 1/10 - Cost: 1.4998030671352984\n"
     ]
    },
    {
     "name": "stderr",
     "output_type": "stream",
     "text": [
      "                                                                                \r"
     ]
    },
    {
     "name": "stdout",
     "output_type": "stream",
     "text": [
      "Iteration 2/10 - Cost: 0.7452491273041107\n"
     ]
    },
    {
     "name": "stderr",
     "output_type": "stream",
     "text": [
      "                                                                                \r"
     ]
    },
    {
     "name": "stdout",
     "output_type": "stream",
     "text": [
      "Iteration 3/10 - Cost: 0.4463838653243955\n"
     ]
    },
    {
     "name": "stderr",
     "output_type": "stream",
     "text": [
      "                                                                                \r"
     ]
    },
    {
     "name": "stdout",
     "output_type": "stream",
     "text": [
      "Iteration 4/10 - Cost: 0.33598210709531867\n"
     ]
    },
    {
     "name": "stderr",
     "output_type": "stream",
     "text": [
      "                                                                                \r"
     ]
    },
    {
     "name": "stdout",
     "output_type": "stream",
     "text": [
      "Iteration 5/10 - Cost: 0.2858186861976214\n"
     ]
    },
    {
     "name": "stderr",
     "output_type": "stream",
     "text": [
      "                                                                                \r"
     ]
    },
    {
     "name": "stdout",
     "output_type": "stream",
     "text": [
      "Iteration 6/10 - Cost: 0.2581741737711223\n"
     ]
    },
    {
     "name": "stderr",
     "output_type": "stream",
     "text": [
      "                                                                                \r"
     ]
    },
    {
     "name": "stdout",
     "output_type": "stream",
     "text": [
      "Iteration 7/10 - Cost: 0.24076133573757508\n"
     ]
    },
    {
     "name": "stderr",
     "output_type": "stream",
     "text": [
      "                                                                                \r"
     ]
    },
    {
     "name": "stdout",
     "output_type": "stream",
     "text": [
      "Iteration 8/10 - Cost: 0.22876056610476408\n"
     ]
    },
    {
     "name": "stderr",
     "output_type": "stream",
     "text": [
      "                                                                                \r"
     ]
    },
    {
     "name": "stdout",
     "output_type": "stream",
     "text": [
      "Iteration 9/10 - Cost: 0.21995387544017125\n"
     ]
    },
    {
     "name": "stderr",
     "output_type": "stream",
     "text": [
      "[Stage 16:======>                                                   (1 + 8) / 9]\r"
     ]
    },
    {
     "name": "stdout",
     "output_type": "stream",
     "text": [
      "Iteration 10/10 - Cost: 0.21318893422096608\n"
     ]
    },
    {
     "name": "stderr",
     "output_type": "stream",
     "text": [
      "                                                                                \r"
     ]
    }
   ],
   "source": [
    "w, b = train(normalized_RDD, 10, 1.5, 0)\n"
   ]
  },
  {
   "cell_type": "code",
   "execution_count": 9,
   "metadata": {},
   "outputs": [],
   "source": [
    "# Predict function\n",
    "def predict(w, b, x, trashold=0.5):\n",
    "    z = 0\n",
    "    for j in range(len(w)):\n",
    "        z += w[j] * x[j]\n",
    "\n",
    "    z+= b\n",
    "    # Compute the sigmoid of z\n",
    "    y_hat = sigmoid(z)\n",
    "\n",
    "    if y_hat > trashold:\n",
    "        return 1\n",
    "    else: \n",
    "        return 0\n"
   ]
  },
  {
   "cell_type": "code",
   "execution_count": 10,
   "metadata": {},
   "outputs": [],
   "source": [
    "# Accuracy function\n",
    "def accuracy(w, b, RDD_Xy):\n",
    "    \n",
    "    results = RDD_Xy.map(lambda r: 1 if predict(w, b, r[0]) == r[1] else 0)\n",
    "    results = results.reduce( lambda a, b: a + b)\n",
    "\n",
    "    accuracy = results / RDD_Xy.count()\n",
    "    return accuracy\n"
   ]
  },
  {
   "cell_type": "code",
   "execution_count": 11,
   "metadata": {},
   "outputs": [
    {
     "name": "stderr",
     "output_type": "stream",
     "text": [
      "                                                                                \r"
     ]
    },
    {
     "name": "stdout",
     "output_type": "stream",
     "text": [
      "Accuracy:  0.930181\n"
     ]
    }
   ],
   "source": [
    "acc = accuracy(w, b, normalized_RDD)\n",
    "\n",
    "print(\"Accuracy: \", acc)"
   ]
  },
  {
   "cell_type": "code",
   "execution_count": 12,
   "metadata": {},
   "outputs": [],
   "source": [
    "def compute_metrics(RDD_Xy, w, b):\n",
    "    thresholds = [0.1, 0.2, 0.3, 0.4, 0.5, 0.6, 0.7, 0.8, 0.9]\n",
    "\n",
    "    def calculate_metrics_for_threshold(RDD, threshold):\n",
    "        # Calculate TP, FP, TN, FN for a given threshold\n",
    "        metrics = RDD.map(lambda x: (predict(w, b, x[0], threshold), x[1])) \\\n",
    "                     .map(lambda x: (int(x[0] == 1 and x[1] == 1), int(x[0] == 1 and x[1] == 0), int(x[0] == 0 and x[1] == 0), int(x[0] == 0 and x[1] == 1))) \\\n",
    "                     .reduce(lambda a, b: (a[0] + b[0], a[1] + b[1], a[2] + b[2], a[3] + b[3]))\n",
    "        TP, FP, TN, FN = metrics\n",
    "\n",
    "        return TP, FP, TN, FN\n",
    "\n",
    "    # Compute metrics for each threshold\n",
    "    metrics_for_thresholds = {thresh: calculate_metrics_for_threshold(RDD_Xy, thresh) for thresh in thresholds}\n",
    "    return metrics_for_thresholds"
   ]
  },
  {
   "cell_type": "code",
   "execution_count": 13,
   "metadata": {},
   "outputs": [
    {
     "name": "stderr",
     "output_type": "stream",
     "text": [
      "[Stage 27:======>                                                   (1 + 8) / 9]\r"
     ]
    },
    {
     "name": "stdout",
     "output_type": "stream",
     "text": [
      "accuracy: [0.777585 0.858916 0.897581 0.919363 0.930181 0.931607 0.918127 0.8758\n",
      " 0.774564]\n",
      "precision: [0.6927928  0.78373883 0.84052355 0.8827555  0.91533445 0.94195312\n",
      " 0.96296928 0.98013533 0.99250915]\n",
      "recall: [0.99749  0.991392 0.98136  0.967184 0.948054 0.919902 0.869698 0.767148\n",
      " 0.553304]\n",
      "F1: [0.81767843 0.87541988 0.90549826 0.92304315 0.93140696 0.93079698\n",
      " 0.91396018 0.86066048 0.71051185]\n"
     ]
    },
    {
     "name": "stderr",
     "output_type": "stream",
     "text": [
      "                                                                                \r"
     ]
    },
    {
     "data": {
      "image/png": "[encoded data removed]",
      "text/plain": [
       "<Figure size 640x480 with 1 Axes>"
      ]
     },
     "metadata": {},
     "output_type": "display_data"
    },
    {
     "data": {
      "image/png": "[encoded data removed]",
      "text/plain": [
       "<Figure size 640x480 with 1 Axes>"
      ]
     },
     "metadata": {},
     "output_type": "display_data"
    }
   ],
   "source": [
    "metrics_for_thresholds = compute_metrics(normalized_RDD, w, b)\n",
    "\n",
    "TP = []\n",
    "FP = []\n",
    "TN = []\n",
    "FN = []\n",
    "\n",
    "for threshold, metrics in metrics_for_thresholds.items():\n",
    "    TP.append(metrics[0])\n",
    "    FP.append(metrics[1])\n",
    "    TN.append(metrics[2])\n",
    "    FN.append(metrics[3])\n",
    "\n",
    "TP = np.array(TP)\n",
    "FP = np.array(FP)\n",
    "TN = np.array(TN)\n",
    "FN = np.array(FN)\n",
    "#Accuracy\n",
    "accuracy = (TP + TN) / (TP + FP + TN + FN)\n",
    "print(\"accuracy:\", accuracy)\n",
    "#Precision\n",
    "precision = TP / (TP + FP)\n",
    "print(\"precision:\", precision)\n",
    "#Recall\n",
    "recall = TP / (TP + FN)\n",
    "print(\"recall:\", recall)\n",
    "#F1\n",
    "F1 = 2 * precision * recall / (precision + recall)\n",
    "print(\"F1:\", F1)\n",
    "#ROC\n",
    "TPR = TP / (TP + FN)\n",
    "FPR = FP / (FP + TN)\n",
    "plt.plot(FPR, TPR, marker='o')\n",
    "plt.title('ROC Curve')\n",
    "plt.xlabel('False Positive Rate')\n",
    "plt.ylabel('True Positive Rate')\n",
    "plt.grid(True)\n",
    "plt.show()\n",
    "#Precision-Recall\n",
    "plt.plot(recall, precision, marker='o')\n",
    "plt.title('Precision-Recall Curve')\n",
    "plt.xlabel('Recall')\n",
    "plt.ylabel('Precision')\n",
    "plt.grid(True)\n",
    "plt.show()"
   ]
  }
 ],
 "metadata": {
  "kernelspec": {
   "display_name": ".venv",
   "language": "python",
   "name": "python3"
  },
  "language_info": {
   "codemirror_mode": {
    "name": "ipython",
    "version": 3
   },
   "file_extension": ".py",
   "mimetype": "text/x-python",
   "name": "python",
   "nbconvert_exporter": "python",
   "pygments_lexer": "ipython3",
   "version": "3.9.18"
  }
 },
 "nbformat": 4,
 "nbformat_minor": 2
}
